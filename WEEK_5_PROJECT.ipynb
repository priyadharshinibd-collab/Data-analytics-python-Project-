{
  "nbformat": 4,
  "nbformat_minor": 0,
  "metadata": {
    "colab": {
      "provenance": [],
      "authorship_tag": "ABX9TyPjLrPxi0AJfYWLG7fEq3/6",
      "include_colab_link": true
    },
    "kernelspec": {
      "name": "python3",
      "display_name": "Python 3"
    },
    "language_info": {
      "name": "python"
    }
  },
  "cells": [
    {
      "cell_type": "markdown",
      "metadata": {
        "id": "view-in-github",
        "colab_type": "text"
      },
      "source": [
        "<a href=\"https://colab.research.google.com/github/priyadharshinibd-collab/Data-analytics-python-Project-/blob/main/WEEK_5_PROJECT.ipynb\" target=\"_parent\"><img src=\"https://colab.research.google.com/assets/colab-badge.svg\" alt=\"Open In Colab\"/></a>"
      ]
    },
    {
      "cell_type": "code",
      "execution_count": null,
      "metadata": {
        "id": "de_NlPiU2NQG"
      },
      "outputs": [],
      "source": []
    },
    {
      "cell_type": "code",
      "metadata": {
        "colab": {
          "base_uri": "https://localhost:8080/"
        },
        "id": "5d6542d3",
        "outputId": "e77308ec-a9fe-4684-ead6-398e51732d48"
      },
      "source": [
        "import pandas as pd\n",
        "\n",
        "try:\n",
        "    # Fix: Ensure 'data.csv' exists and import pandas\n",
        "    df = pd.read_csv('data.csv')\n",
        "except FileNotFoundError as e:\n",
        "    error_message_5d6542d3 = str(e)\n",
        "    print(f\"Caught an error: {error_message_5d6542d3}\")\n",
        "except NameError as e:\n",
        "    error_message_5d6542d3 = str(e)\n",
        "    print(f\"Caught an error: {error_message_5d6542d3}\")"
      ],
      "execution_count": 7,
      "outputs": [
        {
          "output_type": "stream",
          "name": "stdout",
          "text": [
            "Caught an error: [Errno 2] No such file or directory: 'data.csv'\n"
          ]
        }
      ]
    },
    {
      "cell_type": "code",
      "metadata": {
        "id": "8d57c80e"
      },
      "source": [
        "import pandas as pd\n",
        "\n",
        "try:\n",
        "    # Fix: Ensure data types are compatible (e.g., convert col2 to numeric if possible)\n",
        "    data = {'col1': [1, 2, 3], 'col2': ['A', 'B', 'C']}\n",
        "    df = pd.DataFrame(data)\n",
        "    # Example fix: convert col2 to numeric if applicable, or use string concatenation\n",
        "    # df['col1'] = df['col1'] + df['col2'].astype(int) # if col2 contains numbers\n",
        "    df['col1'] = df['col1'].astype(str) + df['col2'] # Example: string concatenation\n",
        "except TypeError as e:\n",
        "    error_message_8d57c80e = str(e)\n",
        "    print(f\"Caught an error: {error_message_8d57c80e}\")"
      ],
      "execution_count": 8,
      "outputs": []
    },
    {
      "cell_type": "code",
      "metadata": {
        "colab": {
          "base_uri": "https://localhost:8080/"
        },
        "id": "7da2562c",
        "outputId": "3c3d1dd4-6973-4880-9fb1-752b291362b4"
      },
      "source": [
        "import pandas as pd\n",
        "\n",
        "try:\n",
        "    # Fix: Use a valid column name\n",
        "    data = {'col1': [1, 2, 3], 'col2': ['A', 'B', 'C']}\n",
        "    df = pd.DataFrame(data)\n",
        "    print(df['col1']) # Example: access 'col1' instead of 'col3'\n",
        "except KeyError as e:\n",
        "    error_message_7da2562c = str(e)\n",
        "    print(f\"Caught an error: {error_message_7da2562c}\")"
      ],
      "execution_count": 9,
      "outputs": [
        {
          "output_type": "stream",
          "name": "stdout",
          "text": [
            "0    1\n",
            "1    2\n",
            "2    3\n",
            "Name: col1, dtype: int64\n"
          ]
        }
      ]
    }
  ]
}